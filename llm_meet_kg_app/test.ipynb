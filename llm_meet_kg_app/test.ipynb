{
 "cells": [
  {
   "cell_type": "code",
   "execution_count": 1,
   "metadata": {},
   "outputs": [],
   "source": [
    "response = \"Completion(model='glm-4-plus', created=1733397559, choices=[CompletionChoice(index=0, finish_reason='stop', message=CompletionMessage(content='关于CPU（中央处理单元），我可以提供以下信息：\\n\\n### 基本概念\\n- **定义**：CPU是计算机的核心部件，负责执行计算机程序中的指令。\\n- **功能**：主要包括算术运算、逻辑运算、控制操作和输入/输出操作。\\n\\n### 主要组成部分\\n- **运算器（ALU）**：执行算术和逻辑运算。\\n- **控制器**：解释指令并控制其他部件的操作。\\n- **寄存器**：用于存储临时数据。\\n\\n### 关键性能指标\\n- **主频**：CPU的时钟频率，单位为GHz。\\n- **核心数**：CPU内部独立的处理单元数量。\\n- **线程数**：CPU可以同时处理的线程数量。\\n- **缓存大小**：用于存储频繁访问数据的缓存容量。\\n\\n### 主要厂商\\n- **Intel**：全球最大的CPU制造商之一，产品线包括Core、Xeon等。\\n- **AMD**：主要竞争对手，产品线包括Ryzen、EPYC等。\\n- **ARM**：专注于低功耗处理器设计，广泛应用于移动设备。\\n\\n### 应用领域\\n- **个人电脑**：如Intel Core i7、AMD Ryzen 7。\\n- **服务器**：如Intel Xeon、AMD EPYC。\\n- **移动设备**：如ARM Cortex系列。\\n- **嵌入式系统**：应用于各种专用设备。\\n\\n### 发展趋势\\n- **多核化**：增加核心数量以提高并行处理能力。\\n- **异构计算**：结合不同类型的处理器（如CPU+GPU）以提高效率。\\n- **低功耗设计**：减少能耗，提高能效比。\\n\\n如果您有更具体的问题，比如关于特定型号的CPU、性能对比、选购建议等，请详细说明，我会尽力提供更详细的信息。', role='assistant', tool_calls=None))], request_id='202412051919092e5020ddb3094abc', id='202412051919092e5020ddb3094abc', usage=CompletionUsage(prompt_tokens=47, completion_tokens=367, total_tokens=414))\""
   ]
  },
  {
   "cell_type": "code",
   "execution_count": 4,
   "metadata": {},
   "outputs": [
    {
     "name": "stdout",
     "output_type": "stream",
     "text": [
      "Completion(model='glm-4-plus', created=1733397559, choices=[CompletionChoice(index=0, finish_reason='stop', message=CompletionMessage(content='关于CPU（中央处理单元），我可以提供以下信息：\n",
      "\n",
      "### 基本概念\n",
      "- **定义**：CPU是计算机的核心部件，负责执行计算机程序中的指令。\n",
      "- **功能**：主要包括算术运算、逻辑运算、控制操作和输入/输出操作。\n",
      "\n",
      "### 主要组成部分\n",
      "- **运算器（ALU）**：执行算术和逻辑运算。\n",
      "- **控制器**：解释指令并控制其他部件的操作。\n",
      "- **寄存器**：用于存储临时数据。\n",
      "\n",
      "### 关键性能指标\n",
      "- **主频**：CPU的时钟频率，单位为GHz。\n",
      "- **核心数**：CPU内部独立的处理单元数量。\n",
      "- **线程数**：CPU可以同时处理的线程数量。\n",
      "- **缓存大小**：用于存储频繁访问数据的缓存容量。\n",
      "\n",
      "### 主要厂商\n",
      "- **Intel**：全球最大的CPU制造商之一，产品线包括Core、Xeon等。\n",
      "- **AMD**：主要竞争对手，产品线包括Ryzen、EPYC等。\n",
      "- **ARM**：专注于低功耗处理器设计，广泛应用于移动设备。\n",
      "\n",
      "### 应用领域\n",
      "- **个人电脑**：如Intel Core i7、AMD Ryzen 7。\n",
      "- **服务器**：如Intel Xeon、AMD EPYC。\n",
      "- **移动设备**：如ARM Cortex系列。\n",
      "- **嵌入式系统**：应用于各种专用设备。\n",
      "\n",
      "### 发展趋势\n",
      "- **多核化**：增加核心数量以提高并行处理能力。\n",
      "- **异构计算**：结合不同类型的处理器（如CPU+GPU）以提高效率。\n",
      "- **低功耗设计**：减少能耗，提高能效比。\n",
      "\n",
      "如果您有更具体的问题，比如关于特定型号的CPU、性能对比、选购建议等，请详细说明，我会尽力提供更详细的信息。', role='assistant', tool_calls=None))], request_id='202412051919092e5020ddb3094abc', id='202412051919092e5020ddb3094abc', usage=CompletionUsage(prompt_tokens=47, completion_tokens=367, total_tokens=414))\n"
     ]
    }
   ],
   "source": [
    "# answer = response['choices'][0]['message']['content']\n",
    "answer = response\n",
    "print(answer)"
   ]
  },
  {
   "cell_type": "code",
   "execution_count": 5,
   "metadata": {},
   "outputs": [
    {
     "name": "stdout",
     "output_type": "stream",
     "text": [
      "Completion(model='glm-4', created=1733397949, choices=[CompletionChoice(index=0, finish_reason='stop', message=CompletionMessage(content='在知识图谱的上下文中，CPU（Central Processing Unit，中央处理单元）是计算机硬件的核心部件之一，负责解释计算机指令以及处理软件中的数据。以下是关于CPU的一些基本信息和它与知识图谱的关系：\\n\\n1. **功能**：CPU是计算机的大脑，它执行程序的指令，进行算术和逻辑运算，并控制其他硬件设备。\\n\\n2. **与GPU的关系**：在知识图谱中，CPU与GPU（Graphics Processing Unit，图形处理单元）是两种不同的处理器。CPU擅长处理顺序任务和复杂的决策过程，而GPU则专门用于并行处理，尤其是在图形渲染和大规模并行计算任务中表现优异。\\n\\n3. **区别**：\\n   - **核心数**：CPU通常拥有较少的核心（几十个），而GPU拥有成百上千个核心。\\n   - **用途**：CPU适合通用计算，而GPU适合高度并行的计算任务。\\n   - **架构**：CPU架构设计为优化单线程性能，而GPU架构设计为同时处理多个任务。\\n\\n4. **在知识图谱中的应用**：CPU在知识图谱的构建和应用中扮演重要角色。它负责处理图算法，如最短路径算法、社区检测算法等，以及支持知识图谱查询语言（如SPARQL）的解析和执行。\\n\\n5. **性能指标**：CPU的性能可以通过频率（GHz）、核心数、缓存大小、能效比等指标来衡量。\\n\\n如果您有关于CPU的具体问题，例如其在特定应用中的性能、与GPU的详细比较、市场主流CPU型号等，请提供更多信息，以便我能够提供更准确的答案。', role='assistant', tool_calls=None))], request_id='20241205192538096891c4a1e543b5', id='20241205192538096891c4a1e543b5', usage=CompletionUsage(prompt_tokens=47, completion_tokens=334, total_tokens=381))\n"
     ]
    },
    {
     "ename": "TypeError",
     "evalue": "'Completion' object is not subscriptable",
     "output_type": "error",
     "traceback": [
      "\u001b[0;31m---------------------------------------------------------------------------\u001b[0m",
      "\u001b[0;31mTypeError\u001b[0m                                 Traceback (most recent call last)",
      "Cell \u001b[0;32mIn[5], line 22\u001b[0m\n\u001b[1;32m     17\u001b[0m \u001b[38;5;28mprint\u001b[39m(response)\n\u001b[1;32m     19\u001b[0m \u001b[38;5;66;03m# if response and 'choices' in response and len(response['choices']) > 0:\u001b[39;00m\n\u001b[1;32m     20\u001b[0m \u001b[38;5;66;03m# if response and 'choices' in response and len(response.choices) > 0:\u001b[39;00m\n\u001b[1;32m     21\u001b[0m     \u001b[38;5;66;03m# answer = response.choices[0].message['content']\u001b[39;00m\n\u001b[0;32m---> 22\u001b[0m answer \u001b[38;5;241m=\u001b[39m \u001b[43mresponse\u001b[49m\u001b[43m[\u001b[49m\u001b[38;5;124;43m'\u001b[39;49m\u001b[38;5;124;43mchoices\u001b[39;49m\u001b[38;5;124;43m'\u001b[39;49m\u001b[43m]\u001b[49m[\u001b[38;5;241m0\u001b[39m][\u001b[38;5;124m'\u001b[39m\u001b[38;5;124mmessage\u001b[39m\u001b[38;5;124m'\u001b[39m]\n\u001b[1;32m     23\u001b[0m \u001b[38;5;28mprint\u001b[39m(\u001b[38;5;124m\"\u001b[39m\u001b[38;5;124manswer:_______________\u001b[39m\u001b[38;5;124m\"\u001b[39m)\n\u001b[1;32m     24\u001b[0m \u001b[38;5;28mprint\u001b[39m(answer)\n",
      "\u001b[0;31mTypeError\u001b[0m: 'Completion' object is not subscriptable"
     ]
    }
   ],
   "source": [
    "from zhipuai import ZhipuAI\n",
    "client = ZhipuAI(api_key=\"0ed124e225edb8eac72f60a320991d38.2he6rOqpIWdK2z72\")\n",
    "knowledge_graph_context = \"GPU, different, CPU\"\n",
    "question = \"CPU\"\n",
    "messages = [\n",
    "    {\"role\": \"system\", \"content\": \"你是一名知识图谱专家，能够结合知识图谱回答用户问题。\"},\n",
    "    {\"role\": \"user\", \"content\": f\"以下是知识图谱内容：\\n{knowledge_graph_context}\"},\n",
    "    {\"role\": \"assistant\", \"content\": \"我已经获取了知识图谱内容，请告诉我您的问题。\"},\n",
    "    {\"role\": \"user\", \"content\": question}\n",
    "]\n",
    "\n",
    "# 调用智谱AI\n",
    "response = client.chat.completions.create(\n",
    "    model=\"glm-4\",  # 替换为您的模型名称\n",
    "    messages=messages,\n",
    ")\n",
    "print(response)\n",
    "\n",
    "# if response and 'choices' in response and len(response['choices']) > 0:\n",
    "# if response and 'choices' in response and len(response.choices) > 0:\n",
    "    # answer = response.choices[0].message['content']\n"
   ]
  },
  {
   "cell_type": "code",
   "execution_count": 8,
   "metadata": {},
   "outputs": [
    {
     "data": {
      "text/plain": [
       "zhipuai.types.chat.chat_completion.Completion"
      ]
     },
     "execution_count": 8,
     "metadata": {},
     "output_type": "execute_result"
    }
   ],
   "source": [
    "type(response)"
   ]
  },
  {
   "cell_type": "code",
   "execution_count": 10,
   "metadata": {},
   "outputs": [
    {
     "data": {
      "text/plain": [
       "'在知识图谱的上下文中，CPU（Central Processing Unit，中央处理单元）是计算机硬件的核心部件之一，负责解释计算机指令以及处理软件中的数据。以下是关于CPU的一些基本信息和它与知识图谱的关系：\\n\\n1. **功能**：CPU是计算机的大脑，它执行程序的指令，进行算术和逻辑运算，并控制其他硬件设备。\\n\\n2. **与GPU的关系**：在知识图谱中，CPU与GPU（Graphics Processing Unit，图形处理单元）是两种不同的处理器。CPU擅长处理顺序任务和复杂的决策过程，而GPU则专门用于并行处理，尤其是在图形渲染和大规模并行计算任务中表现优异。\\n\\n3. **区别**：\\n   - **核心数**：CPU通常拥有较少的核心（几十个），而GPU拥有成百上千个核心。\\n   - **用途**：CPU适合通用计算，而GPU适合高度并行的计算任务。\\n   - **架构**：CPU架构设计为优化单线程性能，而GPU架构设计为同时处理多个任务。\\n\\n4. **在知识图谱中的应用**：CPU在知识图谱的构建和应用中扮演重要角色。它负责处理图算法，如最短路径算法、社区检测算法等，以及支持知识图谱查询语言（如SPARQL）的解析和执行。\\n\\n5. **性能指标**：CPU的性能可以通过频率（GHz）、核心数、缓存大小、能效比等指标来衡量。\\n\\n如果您有关于CPU的具体问题，例如其在特定应用中的性能、与GPU的详细比较、市场主流CPU型号等，请提供更多信息，以便我能够提供更准确的答案。'"
      ]
     },
     "execution_count": 10,
     "metadata": {},
     "output_type": "execute_result"
    }
   ],
   "source": [
    "response.choices[0].message.content"
   ]
  },
  {
   "cell_type": "code",
   "execution_count": null,
   "metadata": {},
   "outputs": [],
   "source": []
  }
 ],
 "metadata": {
  "kernelspec": {
   "display_name": "llm",
   "language": "python",
   "name": "python3"
  },
  "language_info": {
   "codemirror_mode": {
    "name": "ipython",
    "version": 3
   },
   "file_extension": ".py",
   "mimetype": "text/x-python",
   "name": "python",
   "nbconvert_exporter": "python",
   "pygments_lexer": "ipython3",
   "version": "3.9.19"
  }
 },
 "nbformat": 4,
 "nbformat_minor": 2
}
